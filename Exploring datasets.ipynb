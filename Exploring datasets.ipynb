{
 "cells": [
  {
   "cell_type": "code",
   "execution_count": 126,
   "metadata": {
    "collapsed": false
   },
   "outputs": [
    {
     "name": "stdout",
     "output_type": "stream",
     "text": [
      "Once deleted, variables cannot be recovered. Proceed (y/[n])? y\n"
     ]
    }
   ],
   "source": [
    "import numpy as np\n",
    "import os\n",
    "import matplotlib\n",
    "import pandas as pd"
   ]
  },
  {
   "cell_type": "code",
   "execution_count": 142,
   "metadata": {
    "collapsed": false
   },
   "outputs": [],
   "source": [
    "#read in whatever datafile you want\n",
    "def read_datafunc(datafile):\n",
    "    read_data = pd.read_csv(datafile)\n",
    "    return read_data"
   ]
  },
  {
   "cell_type": "code",
   "execution_count": 143,
   "metadata": {
    "collapsed": false
   },
   "outputs": [
    {
     "name": "stdout",
     "output_type": "stream",
     "text": [
      "Indicadores_de_Salud.csv\n",
      "Dimensions: (2868, 102)\n",
      "Columns: ['consecutivo', 'idindicador', 'nomindicador', 'idunidad', 'nomunidad', 'iddepto', 'nomdepto', 'idmpio', 'nommpio', 'idregion', 'nomregion', 'idsubregion', 'nomsubregion', 'idregimen', 'nomregimen', 'ideps', 'nomeps', 'idips', 'nomips', 'idzona', 'nomzona', 'ideducacion', 'nomeducacion', 'idocupacion', 'nomocupacion', 'idedad', 'nomedad', 'idestadocivil', 'nomestadocivil', 'idsexo', 'nomsexo', 'idetnia', 'nometnia', 'yea1990', 'yea1991', 'yea1992', 'yea1993', 'yea1994', 'yea1995', 'yea1996', 'yea1997', 'yea1998', 'yea1999', 'yea2000', 'yea2001', 'yea2002', 'yea2003', 'yea2004', 'yea2005', 'yea2006', 'yea2007', 'yea2008', 'yea2009', 'yea2010', 'yea2011', 'yea2012', 'fue1990', 'fue1991', 'fue1992', 'fue1993', 'fue1994', 'fue1995', 'fue1996', 'fue1997', 'fue1998', 'fue1999', 'fue2000', 'fue2001', 'fue2002', 'fue2003', 'fue2004', 'fue2005', 'fue2006', 'fue2007', 'fue2008', 'fue2009', 'fue2010', 'fue2011', 'fue2012', 'obs1990', 'obs1991', 'obs1992', 'obs1993', 'obs1994', 'obs1995', 'obs1996', 'obs1997', 'obs1998', 'obs1999', 'obs2000', 'obs2001', 'obs2002', 'obs2003', 'obs2004', 'obs2005', 'obs2006', 'obs2007', 'obs2008', 'obs2009', 'obs2010', 'obs2011', 'obs2012']\n",
      "Indicators: ['Tasa de mortalidad infantil estimada', 'Mortalidad materna a 42 días', 'Duración de la lactancia materna exclusiva en menores de 3 años', 'Porcentaje partos institucionales', 'Razón de mortalidad materna a 42 días', 'Prevalencia de desnutrición crónica', 'Letalidad de Dengue grave', 'Porcentaje de brotes de ETA con identificación de agentes patógenos en muestras biológicas  alimentos y superficies /ambientales', 'Porcentaje de partos atendidos por personal calificado', 'Porcentaje de población con hipertension arterial diagnosticada en 2 o más consultas', 'Tasa Global de Fecundidad', 'Porcentaje de transmisión materno infantil de VIH', 'Tasa de mortalidad estimada en menores de 5 años', 'Tasa General de Fecundidad', 'Porcentaje de nacidos vivos con cuatro o más consultas de control prenatal', 'Número anual de nacimientos', 'Prevalencia de desnutrición global', 'Porcentaje de mujeres de 15 a 19 años alguna vez embarazadas (ya son madres o están embarazadas por primera vez)', 'Porcentaje de mujeres con uso actual de métodos modernos de anticoncepción']\n"
     ]
    }
   ],
   "source": [
    "#summarize the size and columns, of the data\n",
    "def summarize_data(datafile):\n",
    "    read_data = read_datafunc(datafile)\n",
    "    print(datafile)\n",
    "    print('Dimensions:', read_data.shape)\n",
    "    print('Columns:', list(read_data.columns))\n",
    "    print('Indicators:', list(read_data.nomindicador.unique()))\n",
    "    return read_data\n",
    "    \n",
    "\n",
    "df = summarize_data('Indicadores_de_Salud.csv')"
   ]
  },
  {
   "cell_type": "code",
   "execution_count": 223,
   "metadata": {
    "collapsed": false
   },
   "outputs": [
    {
     "name": "stdout",
     "output_type": "stream",
     "text": [
      "(2868, 21)\n",
      "Index(['consecutivo', 'idindicador', 'nomindicador', 'idunidad', 'nomunidad',\n",
      "       'iddepto', 'nomdepto', 'idmpio', 'nommpio', 'yea2005', 'yea2006',\n",
      "       'yea2007', 'yea2008', 'yea2009', 'yea2010', 'fue2005', 'fue2006',\n",
      "       'fue2007', 'fue2008', 'fue2009', 'fue2010'],\n",
      "      dtype='object')\n"
     ]
    }
   ],
   "source": [
    "\n",
    "#removing columns that have highly sparse data\n",
    "sparsity_threshold = .5\n",
    "df_nonsparse_columns = df.loc[:,(df.isnull().sum()/len(df)) < sparsity_threshold]\n",
    "\n",
    "#look at the new shape of the dataset\n",
    "print(df_nonsparse_columns.shape)\n",
    "print(df_nonsparse_columns.columns)\n",
    "\n"
   ]
  },
  {
   "cell_type": "code",
   "execution_count": 163,
   "metadata": {
    "collapsed": false
   },
   "outputs": [
    {
     "name": "stdout",
     "output_type": "stream",
     "text": [
      "['Tasa de mortalidad infantil estimada' 'Mortalidad materna a 42 días'\n",
      " 'Duración de la lactancia materna exclusiva en menores de 3 años'\n",
      " 'Porcentaje partos institucionales'\n",
      " 'Razón de mortalidad materna a 42 días'\n",
      " 'Prevalencia de desnutrición crónica' 'Letalidad de Dengue grave'\n",
      " 'Porcentaje de brotes de ETA con identificación de agentes patógenos en muestras biológicas  alimentos y superficies /ambientales'\n",
      " 'Porcentaje de partos atendidos por personal calificado'\n",
      " 'Porcentaje de población con hipertension arterial diagnosticada en 2 o más consultas'\n",
      " 'Tasa Global de Fecundidad'\n",
      " 'Porcentaje de transmisión materno infantil de VIH'\n",
      " 'Tasa de mortalidad estimada en menores de 5 años'\n",
      " 'Tasa General de Fecundidad'\n",
      " 'Porcentaje de nacidos vivos con cuatro o más consultas de control prenatal'\n",
      " 'Número anual de nacimientos' 'Prevalencia de desnutrición global'\n",
      " 'Porcentaje de mujeres de 15 a 19 años alguna vez embarazadas (ya son madres o están embarazadas por primera vez)'\n",
      " 'Porcentaje de mujeres con uso actual de métodos modernos de anticoncepción']\n"
     ]
    }
   ],
   "source": [
    "#looking at new indicadors\n",
    "print(df_nonsparse_columns.nomindicador.unique())"
   ]
  },
  {
   "cell_type": "code",
   "execution_count": 191,
   "metadata": {
    "collapsed": false
   },
   "outputs": [
    {
     "name": "stdout",
     "output_type": "stream",
     "text": [
      "idindicador  nomindicador                                                                                                                    \n",
      "caelacex     Duración de la lactancia materna exclusiva en menores de 3 años                                                                       34\n",
      "cgrnacim     Número anual de nacimientos                                                                                                           35\n",
      "ctrmormt     Mortalidad materna a 42 días                                                                                                          36\n",
      "igrtgfec     Tasa Global de Fecundidad                                                                                                             29\n",
      "paemetmo     Porcentaje de mujeres con uso actual de métodos modernos de anticoncepción                                                             6\n",
      "pbehtaco     Porcentaje de población con hipertension arterial diagnosticada en 2 o más consultas                                                  54\n",
      "pbepredc     Prevalencia de desnutrición crónica                                                                                                   33\n",
      "pbepredg     Prevalencia de desnutrición global                                                                                                    33\n",
      "pbretaia     Porcentaje de brotes de ETA con identificación de agentes patógenos en muestras biológicas  alimentos y superficies /ambientales      33\n",
      "pbrmivih     Porcentaje de transmisión materno infantil de VIH                                                                                     37\n",
      "pcrparin     Porcentaje partos institucionales                                                                                                   1147\n",
      "pcrperca     Porcentaje de partos atendidos por personal calificado                                                                                34\n",
      "pcrrncpn     Porcentaje de nacidos vivos con cuatro o más consultas de control prenatal                                                            34\n",
      "pgeembar     Porcentaje de mujeres de 15 a 19 años alguna vez embarazadas (ya son madres o están embarazadas por primera vez)                      34\n",
      "ptrldeng     Letalidad de Dengue grave                                                                                                             36\n",
      "rgrtgfec     Tasa General de Fecundidad                                                                                                            29\n",
      "rtrmorpu     Razón de mortalidad materna a 42 días                                                                                                 34\n",
      "ttdiesti     Tasa de mortalidad infantil estimada                                                                                                1156\n",
      "ttdnesti     Tasa de mortalidad estimada en menores de 5 años                                                                                      34\n",
      "dtype: int64\n"
     ]
    }
   ],
   "source": [
    "#group by indicadors and see how many times they appear in the file\n",
    "by_indicador = df_nonsparse_columns.groupby(by=['idindicador', 'nomindicador'])\n",
    "\n",
    "print(by_indicador.size()) \n"
   ]
  },
  {
   "cell_type": "code",
   "execution_count": 228,
   "metadata": {
    "collapsed": false
   },
   "outputs": [
    {
     "data": {
      "text/plain": [
       "36"
      ]
     },
     "execution_count": 228,
     "metadata": {},
     "output_type": "execute_result"
    }
   ],
   "source": [
    "depto = df_nonsparse_columns[['iddepto','nomdepto']]\n",
    "by_iddepto = depto.groupby(by=['iddepto','nomdepto'])\n",
    "by_iddepto.size()\n",
    "depto['iddepto'].nunique()"
   ]
  },
  {
   "cell_type": "code",
   "execution_count": 224,
   "metadata": {
    "collapsed": false
   },
   "outputs": [
    {
     "name": "stdout",
     "output_type": "stream",
     "text": [
      "      consecutivo idindicador  \\\n",
      "71           1210    rgrtgfec   \n",
      "300          1677    paemetmo   \n",
      "365          1501    pbrmivih   \n",
      "494          1381    pcrparin   \n",
      "498             1    pcrrncpn   \n",
      "621          1211    pgeembar   \n",
      "671          1213    caelacex   \n",
      "882          1571    pbepredg   \n",
      "991          1212    pcrperca   \n",
      "1169         1711    ctrmormt   \n",
      "1221         1382    igrtgfec   \n",
      "1227         1673    paemetmo   \n",
      "1337         1411    ptrldeng   \n",
      "1345         1710    pbretaia   \n",
      "1504         1604    ttdnesti   \n",
      "1645         1676    paemetmo   \n",
      "1656         1638    ttdiesti   \n",
      "1681         1148    rtrmorpu   \n",
      "1953         1674    paemetmo   \n",
      "1964         1214    cgrnacim   \n",
      "1981         1675    paemetmo   \n",
      "2277         1467    pbehtaco   \n",
      "2396         1538    pbepredc   \n",
      "2593         1672    paemetmo   \n",
      "\n",
      "                                           nomindicador  idunidad  \\\n",
      "71                           Tasa General de Fecundidad         3   \n",
      "300   Porcentaje de mujeres con uso actual de método...         1   \n",
      "365   Porcentaje de transmisión materno infantil de VIH         1   \n",
      "494                   Porcentaje partos institucionales         1   \n",
      "498   Porcentaje de nacidos vivos con cuatro o más c...         1   \n",
      "621   Porcentaje de mujeres de 15 a 19 años alguna v...         1   \n",
      "671   Duración de la lactancia materna exclusiva en ...         5   \n",
      "882                  Prevalencia de desnutrición global         1   \n",
      "991   Porcentaje de partos atendidos por personal ca...         1   \n",
      "1169                       Mortalidad materna a 42 días        17   \n",
      "1221                          Tasa Global de Fecundidad         2   \n",
      "1227  Porcentaje de mujeres con uso actual de método...         1   \n",
      "1337                          Letalidad de Dengue grave         1   \n",
      "1345  Porcentaje de brotes de ETA con identificación...         1   \n",
      "1504   Tasa de mortalidad estimada en menores de 5 años        20   \n",
      "1645  Porcentaje de mujeres con uso actual de método...         1   \n",
      "1656               Tasa de mortalidad infantil estimada        20   \n",
      "1681              Razón de mortalidad materna a 42 días         4   \n",
      "1953  Porcentaje de mujeres con uso actual de método...         1   \n",
      "1964                        Número anual de nacimientos        17   \n",
      "1981  Porcentaje de mujeres con uso actual de método...         1   \n",
      "2277  Porcentaje de población con hipertension arter...         1   \n",
      "2396                Prevalencia de desnutrición crónica         1   \n",
      "2593  Porcentaje de mujeres con uso actual de método...         1   \n",
      "\n",
      "                      nomunidad  iddepto    nomdepto  idmpio nommpio  \\\n",
      "71            por 1.000 mujeres    170.0  TOTAL PAIS     NaN     NaN   \n",
      "300                 por 100 (%)    170.0    COLOMBIA     NaN     NaN   \n",
      "365                 por 100 (%)    170.0    COLOMBIA     NaN     NaN   \n",
      "494                 por 100 (%)    170.0  TOTAL PAIS     NaN     NaN   \n",
      "498                 por 100 (%)    170.0  TOTAL PAIS     NaN     NaN   \n",
      "621                 por 100 (%)    170.0  TOTAL PAIS     NaN     NaN   \n",
      "671                       Meses    170.0  TOTAL PAIS     NaN     NaN   \n",
      "882                 por 100 (%)    170.0    COLOMBIA     NaN     NaN   \n",
      "991                 por 100 (%)    170.0  TOTAL PAIS     NaN     NaN   \n",
      "1169                   Personas    170.0    COLOMBIA     NaN     NaN   \n",
      "1221              Nacidos vivos    170.0  TOTAL PAIS     NaN     NaN   \n",
      "1227                por 100 (%)    170.0    COLOMBIA     NaN     NaN   \n",
      "1337                Por 100 (%)    170.0    COLOMBIA     NaN     NaN   \n",
      "1345                por 100 (%)    170.0    COLOMBIA     NaN     NaN   \n",
      "1504    Por 1.000 nacidos vivos    170.0    COLOMBIA     NaN     NaN   \n",
      "1645                por 100 (%)    170.0    COLOMBIA     NaN     NaN   \n",
      "1656    Por 1.000 nacidos vivos    170.0    COLOMBIA     NaN     NaN   \n",
      "1681  por 100.000 nacidos vivos    170.0  TOTAL PAIS     NaN     NaN   \n",
      "1953                por 100 (%)    170.0    COLOMBIA     NaN     NaN   \n",
      "1964                   Personas    170.0  TOTAL PAIS     NaN     NaN   \n",
      "1981                por 100 (%)    170.0    COLOMBIA     NaN     NaN   \n",
      "2277                por 100 (%)    170.0    COLOMBIA     NaN     NaN   \n",
      "2396                por 100 (%)    170.0    COLOMBIA     NaN     NaN   \n",
      "2593                por 100 (%)    170.0    COLOMBIA     NaN     NaN   \n",
      "\n",
      "            yea2005                        ...                          \\\n",
      "71              NaN                        ...                           \n",
      "300       49.400000                        ...                           \n",
      "365             NaN                        ...                           \n",
      "494       96.472966                        ...                           \n",
      "498       82.380000                        ...                           \n",
      "621       20.500000                        ...                           \n",
      "671        2.200000                        ...                           \n",
      "882        7.000000                        ...                           \n",
      "991       96.400000                        ...                           \n",
      "1169     505.000000                        ...                           \n",
      "1221            NaN                        ...                           \n",
      "1227      68.200000                        ...                           \n",
      "1337            NaN                        ...                           \n",
      "1345            NaN                        ...                           \n",
      "1504      26.617984                        ...                           \n",
      "1645      16.600000                        ...                           \n",
      "1656      20.398497                        ...                           \n",
      "1681      70.140000                        ...                           \n",
      "1953      66.100000                        ...                           \n",
      "1964  719968.000000                        ...                           \n",
      "1981      68.500000                        ...                           \n",
      "2277            NaN                        ...                           \n",
      "2396      12.000000                        ...                           \n",
      "2593      47.100000                        ...                           \n",
      "\n",
      "            yea2007        yea2008        yea2009        yea2010  fue2005  \\\n",
      "71              NaN            NaN            NaN            NaN      NaN   \n",
      "300             NaN            NaN            NaN      56.900000     ENDS   \n",
      "365             NaN       6.200000       4.900000       5.300000      NaN   \n",
      "494       97.774698      98.100000      98.358257      98.589188     EEVV   \n",
      "498       83.780000      84.080000      84.300000      86.260000     EEVV   \n",
      "621             NaN            NaN            NaN      19.500000     ENDS   \n",
      "671             NaN            NaN            NaN       1.800000    ENSIN   \n",
      "882             NaN            NaN            NaN       3.400000    ENSIN   \n",
      "991       97.800000      98.100000      98.400000      98.700000     EEVV   \n",
      "1169     511.000000     432.000000     471.000000     469.000000     DANE   \n",
      "1221            NaN            NaN            NaN            NaN      NaN   \n",
      "1227            NaN            NaN            NaN      72.900000     ENDS   \n",
      "1337       0.430000       0.520000       0.710000       2.260000      NaN   \n",
      "1345            NaN            NaN            NaN      64.820847      NaN   \n",
      "1504      24.440359      23.351546      22.262734      21.173921     DANE   \n",
      "1645            NaN            NaN            NaN      24.300000     ENDS   \n",
      "1656      19.576598      19.168231      18.761659      18.400000     DANE   \n",
      "1681      72.050000      60.380000      67.310000      71.640000     DANE   \n",
      "1953            NaN            NaN            NaN      70.500000     ENDS   \n",
      "1964  709253.000000  715453.000000  699775.000000  654627.000000     EEVV   \n",
      "1981            NaN            NaN            NaN      75.100000     ENDS   \n",
      "2277       8.800000            NaN            NaN            NaN      NaN   \n",
      "2396            NaN            NaN            NaN      13.200000    ENSIN   \n",
      "2593            NaN            NaN            NaN      55.100000     ENDS   \n",
      "\n",
      "     fue2006   fue2007                                            fue2008  \\\n",
      "71       NaN       NaN                                                NaN   \n",
      "300      NaN       NaN                                                NaN   \n",
      "365      NaN       NaN  Informe transmisión Materno Infantil del VIH M...   \n",
      "494     EEVV      EEVV                                               EEVV   \n",
      "498     EEVV      EEVV                                               EEVV   \n",
      "621      NaN       NaN                                                NaN   \n",
      "671      NaN       NaN                                                NaN   \n",
      "882      NaN       NaN                                                NaN   \n",
      "991     EEVV      EEVV                                               EEVV   \n",
      "1169    DANE      DANE                                               DANE   \n",
      "1221     NaN       NaN                                                NaN   \n",
      "1227     NaN       NaN                                                NaN   \n",
      "1337     NaN  SIVIGILA                                           SIVIGILA   \n",
      "1345     NaN       NaN                                                NaN   \n",
      "1504    DANE      DANE                                               DANE   \n",
      "1645     NaN       NaN                                                NaN   \n",
      "1656    DANE      DANE                                               DANE   \n",
      "1681    DANE      DANE                                               DANE   \n",
      "1953     NaN       NaN                                                NaN   \n",
      "1964    EEVV      EEVV                                               EEVV   \n",
      "1981     NaN       NaN                                                NaN   \n",
      "2277     NaN       ENS                                                NaN   \n",
      "2396     NaN       NaN                                                NaN   \n",
      "2593     NaN       NaN                                                NaN   \n",
      "\n",
      "                                                fue2009  \\\n",
      "71                                                  NaN   \n",
      "300                                                 NaN   \n",
      "365   Informe transmisión Materno Infantil del VIH M...   \n",
      "494                                                EEVV   \n",
      "498                                                EEVV   \n",
      "621                                                 NaN   \n",
      "671                                                 NaN   \n",
      "882                                                 NaN   \n",
      "991                                                EEVV   \n",
      "1169                                               DANE   \n",
      "1221                                                NaN   \n",
      "1227                                                NaN   \n",
      "1337                                           SIVIGILA   \n",
      "1345                                                NaN   \n",
      "1504                                               DANE   \n",
      "1645                                                NaN   \n",
      "1656                                               DANE   \n",
      "1681                                               DANE   \n",
      "1953                                                NaN   \n",
      "1964                                               EEVV   \n",
      "1981                                                NaN   \n",
      "2277                                                NaN   \n",
      "2396                                                NaN   \n",
      "2593                                                NaN   \n",
      "\n",
      "                                                fue2010  \n",
      "71                                                  NaN  \n",
      "300                                                ENDS  \n",
      "365   Informe transmisión Materno Infantil del VIH M...  \n",
      "494                                                EEVV  \n",
      "498                                                EEVV  \n",
      "621                                                ENDS  \n",
      "671                                               ENSIN  \n",
      "882                                               ENSIN  \n",
      "991                                                EEVV  \n",
      "1169                                               DANE  \n",
      "1221                                                NaN  \n",
      "1227                                               ENDS  \n",
      "1337                                           SIVIGILA  \n",
      "1345                                           SIVIGILA  \n",
      "1504                                               DANE  \n",
      "1645                                               ENDS  \n",
      "1656                                               DANE  \n",
      "1681                                               DANE  \n",
      "1953                                               ENDS  \n",
      "1964                                               EEVV  \n",
      "1981                                               ENDS  \n",
      "2277                                                NaN  \n",
      "2396                                              ENSIN  \n",
      "2593                                               ENDS  \n",
      "\n",
      "[24 rows x 21 columns]\n"
     ]
    }
   ],
   "source": [
    "print(df_nonsparse_columns[df_nonsparse_columns.iddepto == 170])"
   ]
  },
  {
   "cell_type": "code",
   "execution_count": 160,
   "metadata": {
    "collapsed": false
   },
   "outputs": [
    {
     "data": {
      "text/plain": [
       "iddepto  idindicador  nomindicador                                                                                                                    \n",
       "5.0      caelacex     Duración de la lactancia materna exclusiva en menores de 3 años                                                                       1\n",
       "         cgrnacim     Número anual de nacimientos                                                                                                           1\n",
       "         ctrmormt     Mortalidad materna a 42 días                                                                                                          1\n",
       "         igrtgfec     Tasa Global de Fecundidad                                                                                                             1\n",
       "         pbehtaco     Porcentaje de población con hipertension arterial diagnosticada en 2 o más consultas                                                  1\n",
       "         pbepredc     Prevalencia de desnutrición crónica                                                                                                   1\n",
       "         pbepredg     Prevalencia de desnutrición global                                                                                                    1\n",
       "         pbretaia     Porcentaje de brotes de ETA con identificación de agentes patógenos en muestras biológicas  alimentos y superficies /ambientales      1\n",
       "         pbrmivih     Porcentaje de transmisión materno infantil de VIH                                                                                     1\n",
       "         pcrparin     Porcentaje partos institucionales                                                                                                   126\n",
       "         pcrperca     Porcentaje de partos atendidos por personal calificado                                                                                1\n",
       "         pcrrncpn     Porcentaje de nacidos vivos con cuatro o más consultas de control prenatal                                                            1\n",
       "         pgeembar     Porcentaje de mujeres de 15 a 19 años alguna vez embarazadas (ya son madres o están embarazadas por primera vez)                      1\n",
       "         ptrldeng     Letalidad de Dengue grave                                                                                                             1\n",
       "         rgrtgfec     Tasa General de Fecundidad                                                                                                            1\n",
       "         rtrmorpu     Razón de mortalidad materna a 42 días                                                                                                 1\n",
       "         ttdiesti     Tasa de mortalidad infantil estimada                                                                                                126\n",
       "         ttdnesti     Tasa de mortalidad estimada en menores de 5 años                                                                                      1\n",
       "8.0      caelacex     Duración de la lactancia materna exclusiva en menores de 3 años                                                                       1\n",
       "         cgrnacim     Número anual de nacimientos                                                                                                           1\n",
       "         ctrmormt     Mortalidad materna a 42 días                                                                                                          1\n",
       "         igrtgfec     Tasa Global de Fecundidad                                                                                                             1\n",
       "         pbehtaco     Porcentaje de población con hipertension arterial diagnosticada en 2 o más consultas                                                  1\n",
       "         pbepredc     Prevalencia de desnutrición crónica                                                                                                   1\n",
       "         pbepredg     Prevalencia de desnutrición global                                                                                                    1\n",
       "         pbretaia     Porcentaje de brotes de ETA con identificación de agentes patógenos en muestras biológicas  alimentos y superficies /ambientales      1\n",
       "         pbrmivih     Porcentaje de transmisión materno infantil de VIH                                                                                     1\n",
       "         pcrparin     Porcentaje partos institucionales                                                                                                    24\n",
       "         pcrperca     Porcentaje de partos atendidos por personal calificado                                                                                1\n",
       "         pcrrncpn     Porcentaje de nacidos vivos con cuatro o más consultas de control prenatal                                                            1\n",
       "                                                                                                                                                         ... \n",
       "99.0     pbepredc     Prevalencia de desnutrición crónica                                                                                                   1\n",
       "         pbepredg     Prevalencia de desnutrición global                                                                                                    1\n",
       "         pbrmivih     Porcentaje de transmisión materno infantil de VIH                                                                                     1\n",
       "         pcrparin     Porcentaje partos institucionales                                                                                                     5\n",
       "         pcrperca     Porcentaje de partos atendidos por personal calificado                                                                                1\n",
       "         pcrrncpn     Porcentaje de nacidos vivos con cuatro o más consultas de control prenatal                                                            1\n",
       "         pgeembar     Porcentaje de mujeres de 15 a 19 años alguna vez embarazadas (ya son madres o están embarazadas por primera vez)                      1\n",
       "         ptrldeng     Letalidad de Dengue grave                                                                                                             1\n",
       "         rtrmorpu     Razón de mortalidad materna a 42 días                                                                                                 1\n",
       "         ttdiesti     Tasa de mortalidad infantil estimada                                                                                                  5\n",
       "         ttdnesti     Tasa de mortalidad estimada en menores de 5 años                                                                                      1\n",
       "170.0    caelacex     Duración de la lactancia materna exclusiva en menores de 3 años                                                                       1\n",
       "         cgrnacim     Número anual de nacimientos                                                                                                           1\n",
       "         ctrmormt     Mortalidad materna a 42 días                                                                                                          1\n",
       "         igrtgfec     Tasa Global de Fecundidad                                                                                                             1\n",
       "         paemetmo     Porcentaje de mujeres con uso actual de métodos modernos de anticoncepción                                                            6\n",
       "         pbehtaco     Porcentaje de población con hipertension arterial diagnosticada en 2 o más consultas                                                  1\n",
       "         pbepredc     Prevalencia de desnutrición crónica                                                                                                   1\n",
       "         pbepredg     Prevalencia de desnutrición global                                                                                                    1\n",
       "         pbretaia     Porcentaje de brotes de ETA con identificación de agentes patógenos en muestras biológicas  alimentos y superficies /ambientales      1\n",
       "         pbrmivih     Porcentaje de transmisión materno infantil de VIH                                                                                     1\n",
       "         pcrparin     Porcentaje partos institucionales                                                                                                     1\n",
       "         pcrperca     Porcentaje de partos atendidos por personal calificado                                                                                1\n",
       "         pcrrncpn     Porcentaje de nacidos vivos con cuatro o más consultas de control prenatal                                                            1\n",
       "         pgeembar     Porcentaje de mujeres de 15 a 19 años alguna vez embarazadas (ya son madres o están embarazadas por primera vez)                      1\n",
       "         ptrldeng     Letalidad de Dengue grave                                                                                                             1\n",
       "         rgrtgfec     Tasa General de Fecundidad                                                                                                            1\n",
       "         rtrmorpu     Razón de mortalidad materna a 42 días                                                                                                 1\n",
       "         ttdiesti     Tasa de mortalidad infantil estimada                                                                                                  1\n",
       "         ttdnesti     Tasa de mortalidad estimada en menores de 5 años                                                                                      1\n",
       "dtype: int64"
      ]
     },
     "execution_count": 160,
     "metadata": {},
     "output_type": "execute_result"
    }
   ],
   "source": [
    "by_depto_nomindicador = df_nonsparse_columns.groupby(by=['iddepto', 'idindicador', 'nomindicador'])\n",
    "by_depto_nomindicador.size()\n"
   ]
  },
  {
   "cell_type": "code",
   "execution_count": 161,
   "metadata": {
    "collapsed": false
   },
   "outputs": [
    {
     "data": {
      "text/plain": [
       "Tasa de mortalidad infantil estimada                                                                                                1156\n",
       "Porcentaje partos institucionales                                                                                                   1147\n",
       "Porcentaje de población con hipertension arterial diagnosticada en 2 o más consultas                                                  54\n",
       "Porcentaje de transmisión materno infantil de VIH                                                                                     37\n",
       "Letalidad de Dengue grave                                                                                                             36\n",
       "Mortalidad materna a 42 días                                                                                                          36\n",
       "Número anual de nacimientos                                                                                                           35\n",
       "Duración de la lactancia materna exclusiva en menores de 3 años                                                                       34\n",
       "Porcentaje de nacidos vivos con cuatro o más consultas de control prenatal                                                            34\n",
       "Razón de mortalidad materna a 42 días                                                                                                 34\n",
       "Porcentaje de mujeres de 15 a 19 años alguna vez embarazadas (ya son madres o están embarazadas por primera vez)                      34\n",
       "Tasa de mortalidad estimada en menores de 5 años                                                                                      34\n",
       "Porcentaje de partos atendidos por personal calificado                                                                                34\n",
       "Prevalencia de desnutrición global                                                                                                    33\n",
       "Prevalencia de desnutrición crónica                                                                                                   33\n",
       "Porcentaje de brotes de ETA con identificación de agentes patógenos en muestras biológicas  alimentos y superficies /ambientales      33\n",
       "Tasa Global de Fecundidad                                                                                                             29\n",
       "Tasa General de Fecundidad                                                                                                            29\n",
       "Porcentaje de mujeres con uso actual de métodos modernos de anticoncepción                                                             6\n",
       "Name: nomindicador, dtype: int64"
      ]
     },
     "execution_count": 161,
     "metadata": {},
     "output_type": "execute_result"
    }
   ],
   "source": [
    "data_by_nomindicador = read_data.groupby(by='nomindicador')\n",
    "read_data['nomindicador'].value_counts()\n"
   ]
  },
  {
   "cell_type": "code",
   "execution_count": null,
   "metadata": {
    "collapsed": false
   },
   "outputs": [],
   "source": []
  },
  {
   "cell_type": "code",
   "execution_count": null,
   "metadata": {
    "collapsed": true
   },
   "outputs": [],
   "source": []
  }
 ],
 "metadata": {
  "kernelspec": {
   "display_name": "Python 3",
   "language": "python",
   "name": "python3"
  },
  "language_info": {
   "codemirror_mode": {
    "name": "ipython",
    "version": 3
   },
   "file_extension": ".py",
   "mimetype": "text/x-python",
   "name": "python",
   "nbconvert_exporter": "python",
   "pygments_lexer": "ipython3",
   "version": "3.6.0"
  }
 },
 "nbformat": 4,
 "nbformat_minor": 2
}
