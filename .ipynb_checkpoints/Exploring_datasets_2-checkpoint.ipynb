{
 "cells": [
  {
   "cell_type": "code",
   "execution_count": 1,
   "metadata": {
    "collapsed": false
   },
   "outputs": [],
   "source": [
    "import numpy as np\n",
    "import os\n",
    "import matplotlib\n",
    "import pandas as pd"
   ]
  },
  {
   "cell_type": "code",
   "execution_count": 2,
   "metadata": {
    "collapsed": false
   },
   "outputs": [],
   "source": [
    "#read in whatever datafile you want\n",
    "def read_datafunc(datafile):\n",
    "    read_data = pd.read_csv(datafile)\n",
    "    return read_data"
   ]
  },
  {
   "cell_type": "code",
   "execution_count": 3,
   "metadata": {
    "collapsed": false
   },
   "outputs": [
    {
     "name": "stdout",
     "output_type": "stream",
     "text": [
      "Indicadores_de_Salud.csv\n",
      "Dimensions: (2868, 102)\n",
      "Columns: ['consecutivo', 'idindicador', 'nomindicador', 'idunidad', 'nomunidad', 'iddepto', 'nomdepto', 'idmpio', 'nommpio', 'idregion', 'nomregion', 'idsubregion', 'nomsubregion', 'idregimen', 'nomregimen', 'ideps', 'nomeps', 'idips', 'nomips', 'idzona', 'nomzona', 'ideducacion', 'nomeducacion', 'idocupacion', 'nomocupacion', 'idedad', 'nomedad', 'idestadocivil', 'nomestadocivil', 'idsexo', 'nomsexo', 'idetnia', 'nometnia', 'yea1990', 'yea1991', 'yea1992', 'yea1993', 'yea1994', 'yea1995', 'yea1996', 'yea1997', 'yea1998', 'yea1999', 'yea2000', 'yea2001', 'yea2002', 'yea2003', 'yea2004', 'yea2005', 'yea2006', 'yea2007', 'yea2008', 'yea2009', 'yea2010', 'yea2011', 'yea2012', 'fue1990', 'fue1991', 'fue1992', 'fue1993', 'fue1994', 'fue1995', 'fue1996', 'fue1997', 'fue1998', 'fue1999', 'fue2000', 'fue2001', 'fue2002', 'fue2003', 'fue2004', 'fue2005', 'fue2006', 'fue2007', 'fue2008', 'fue2009', 'fue2010', 'fue2011', 'fue2012', 'obs1990', 'obs1991', 'obs1992', 'obs1993', 'obs1994', 'obs1995', 'obs1996', 'obs1997', 'obs1998', 'obs1999', 'obs2000', 'obs2001', 'obs2002', 'obs2003', 'obs2004', 'obs2005', 'obs2006', 'obs2007', 'obs2008', 'obs2009', 'obs2010', 'obs2011', 'obs2012']\n",
      "Indicators: ['Tasa de mortalidad infantil estimada', 'Mortalidad materna a 42 días', 'Duración de la lactancia materna exclusiva en menores de 3 años', 'Porcentaje partos institucionales', 'Razón de mortalidad materna a 42 días', 'Prevalencia de desnutrición crónica', 'Letalidad de Dengue grave', 'Porcentaje de brotes de ETA con identificación de agentes patógenos en muestras biológicas  alimentos y superficies /ambientales', 'Porcentaje de partos atendidos por personal calificado', 'Porcentaje de población con hipertension arterial diagnosticada en 2 o más consultas', 'Tasa Global de Fecundidad', 'Porcentaje de transmisión materno infantil de VIH', 'Tasa de mortalidad estimada en menores de 5 años', 'Tasa General de Fecundidad', 'Porcentaje de nacidos vivos con cuatro o más consultas de control prenatal', 'Número anual de nacimientos', 'Prevalencia de desnutrición global', 'Porcentaje de mujeres de 15 a 19 años alguna vez embarazadas (ya son madres o están embarazadas por primera vez)', 'Porcentaje de mujeres con uso actual de métodos modernos de anticoncepción']\n"
     ]
    }
   ],
   "source": [
    "#summarize the size and columns, of the data\n",
    "def summarize_data(datafile):\n",
    "    read_data = read_datafunc(datafile)\n",
    "    print(datafile)\n",
    "    print('Dimensions:', read_data.shape)\n",
    "    print('Columns:', list(read_data.columns))\n",
    "    print('Indicators:', list(read_data.nomindicador.unique()))\n",
    "    return read_data\n",
    "    \n",
    "\n",
    "df = summarize_data('Indicadores_de_Salud.csv')"
   ]
  },
  {
   "cell_type": "code",
   "execution_count": 4,
   "metadata": {
    "collapsed": false
   },
   "outputs": [
    {
     "name": "stdout",
     "output_type": "stream",
     "text": [
      "(2868, 21)\n",
      "Index(['consecutivo', 'idindicador', 'nomindicador', 'idunidad', 'nomunidad',\n",
      "       'iddepto', 'nomdepto', 'idmpio', 'nommpio', 'yea2005', 'yea2006',\n",
      "       'yea2007', 'yea2008', 'yea2009', 'yea2010', 'fue2005', 'fue2006',\n",
      "       'fue2007', 'fue2008', 'fue2009', 'fue2010'],\n",
      "      dtype='object')\n"
     ]
    }
   ],
   "source": [
    "#removing columns that have highly sparse data\n",
    "sparsity_threshold = .5\n",
    "df_nonsparse_columns = df.loc[:,(df.isnull().sum()/len(df)) < sparsity_threshold]\n",
    "\n",
    "#look at the new shape of the dataset\n",
    "print(df_nonsparse_columns.shape)\n",
    "print(df_nonsparse_columns.columns)"
   ]
  },
  {
   "cell_type": "code",
   "execution_count": 167,
   "metadata": {
    "collapsed": false
   },
   "outputs": [
    {
     "name": "stdout",
     "output_type": "stream",
     "text": [
      "    idindicador                                       nomindicador\n",
      "0      ttdiesti               Tasa de mortalidad infantil estimada\n",
      "1      ctrmormt                       Mortalidad materna a 42 días\n",
      "4      caelacex  Duración de la lactancia materna exclusiva en ...\n",
      "6      pcrparin                  Porcentaje partos institucionales\n",
      "24     rtrmorpu              Razón de mortalidad materna a 42 días\n",
      "36     pbepredc                Prevalencia de desnutrición crónica\n",
      "42     ptrldeng                          Letalidad de Dengue grave\n",
      "45     pbretaia  Porcentaje de brotes de ETA con identificación...\n",
      "55     pcrperca  Porcentaje de partos atendidos por personal ca...\n",
      "57     pbehtaco  Porcentaje de población con hipertension arter...\n",
      "62     igrtgfec                          Tasa Global de Fecundidad\n",
      "63     pbrmivih  Porcentaje de transmisión materno infantil de VIH\n",
      "69     ttdnesti   Tasa de mortalidad estimada en menores de 5 años\n",
      "71     rgrtgfec                         Tasa General de Fecundidad\n",
      "96     pcrrncpn  Porcentaje de nacidos vivos con cuatro o más c...\n",
      "103    cgrnacim                        Número anual de nacimientos\n",
      "224    pbepredg                 Prevalencia de desnutrición global\n",
      "247    pgeembar  Porcentaje de mujeres de 15 a 19 años alguna v...\n",
      "300    paemetmo  Porcentaje de mujeres con uso actual de método...\n",
      "19\n"
     ]
    }
   ],
   "source": [
    "#looking at new indicadors\n",
    "print(df_nonsparse_columns[['idindicador', 'nomindicador']].drop_duplicates())\n",
    "print(len(df_nonsparse_columns.idindicador.unique()))"
   ]
  },
  {
   "cell_type": "code",
   "execution_count": 148,
   "metadata": {
    "collapsed": false
   },
   "outputs": [],
   "source": [
    "##drop all rows where yea2005:yea2010 are all empty\n",
    "not_null = df_nonsparse_columns.dropna(subset=['yea2005','yea2006','yea2007','yea2008','yea2009','yea2010'], how='all')"
   ]
  },
  {
   "cell_type": "code",
   "execution_count": 158,
   "metadata": {
    "collapsed": false
   },
   "outputs": [
    {
     "name": "stdout",
     "output_type": "stream",
     "text": [
      "(2800, 21)\n",
      "(2868, 21)\n",
      "    idindicador                                       nomindicador\n",
      "0      ttdiesti               Tasa de mortalidad infantil estimada\n",
      "1      ctrmormt                       Mortalidad materna a 42 días\n",
      "4      caelacex  Duración de la lactancia materna exclusiva en ...\n",
      "6      pcrparin                  Porcentaje partos institucionales\n",
      "24     rtrmorpu              Razón de mortalidad materna a 42 días\n",
      "36     pbepredc                Prevalencia de desnutrición crónica\n",
      "42     ptrldeng                          Letalidad de Dengue grave\n",
      "45     pbretaia  Porcentaje de brotes de ETA con identificación...\n",
      "55     pcrperca  Porcentaje de partos atendidos por personal ca...\n",
      "57     pbehtaco  Porcentaje de población con hipertension arter...\n",
      "63     pbrmivih  Porcentaje de transmisión materno infantil de VIH\n",
      "69     ttdnesti   Tasa de mortalidad estimada en menores de 5 años\n",
      "96     pcrrncpn  Porcentaje de nacidos vivos con cuatro o más c...\n",
      "103    cgrnacim                        Número anual de nacimientos\n",
      "224    pbepredg                 Prevalencia de desnutrición global\n",
      "247    pgeembar  Porcentaje de mujeres de 15 a 19 años alguna v...\n",
      "300    paemetmo  Porcentaje de mujeres con uso actual de método... 17\n"
     ]
    }
   ],
   "source": [
    "## looking at the new indicadores we kept\n",
    "print(not_null.shape)\n",
    "print(df_nonsparse_columns.shape)\n",
    "indi = not_null[['idindicador', 'nomindicador']].drop_duplicates()\n",
    "print(indi, len(indi))"
   ]
  },
  {
   "cell_type": "code",
   "execution_count": 150,
   "metadata": {
    "collapsed": false
   },
   "outputs": [],
   "source": [
    "##group the dataframe by departamento and indicador\n",
    "by_depto_indicador = not_null.groupby(by=['iddepto', 'idindicador'])"
   ]
  },
  {
   "cell_type": "code",
   "execution_count": 152,
   "metadata": {
    "collapsed": false
   },
   "outputs": [],
   "source": [
    "#keeping only yea2005:yea2010 columns find the average of the value by departamento\n",
    "mean = by_depto_indicador[['yea2005','yea2006','yea2007','yea2008','yea2009','yea2010']].agg('mean')\n",
    "mean.to_csv('Avg_by_depto_indicador.csv')"
   ]
  }
 ],
 "metadata": {
  "kernelspec": {
   "display_name": "Python 3",
   "language": "python",
   "name": "python3"
  },
  "language_info": {
   "codemirror_mode": {
    "name": "ipython",
    "version": 3
   },
   "file_extension": ".py",
   "mimetype": "text/x-python",
   "name": "python",
   "nbconvert_exporter": "python",
   "pygments_lexer": "ipython3",
   "version": "3.6.0"
  }
 },
 "nbformat": 4,
 "nbformat_minor": 2
}
